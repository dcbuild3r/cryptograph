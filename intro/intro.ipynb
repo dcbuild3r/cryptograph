{
 "cells": [
  {
   "cell_type": "markdown",
   "id": "47053c58-274f-4a07-9950-11ba4b6abde2",
   "metadata": {},
   "source": [
    "# ords"
   ]
  },
  {
   "cell_type": "code",
   "execution_count": 1,
   "id": "ca36990b-f271-4c41-8c83-2c62943fb6f5",
   "metadata": {},
   "outputs": [],
   "source": [
    "ords = [99, 114, 121, 112, 116, 111, 123, 65, 83, 67, 73, 73, 95, 112, 114, 49, 110, 116, 52, 98, 108, 51, 125]"
   ]
  },
  {
   "cell_type": "code",
   "execution_count": 2,
   "id": "e8319472-82d2-4cf4-a393-b3edc80d2918",
   "metadata": {},
   "outputs": [
    {
     "name": "stdout",
     "output_type": "stream",
     "text": [
      "crypto{ASCII_pr1nt4bl3}\n"
     ]
    }
   ],
   "source": [
    "print(\"\".join(chr(o) for o in ords))"
   ]
  },
  {
   "cell_type": "markdown",
   "id": "74e7fbec-307a-449e-b865-53ee46b928f4",
   "metadata": {},
   "source": [
    "# hex"
   ]
  },
  {
   "cell_type": "code",
   "execution_count": 3,
   "id": "48be39f3-7149-4974-8fdb-8bb5f578f59d",
   "metadata": {},
   "outputs": [],
   "source": [
    "hex_num = hex(0x63727970746f7b596f755f77696c6c5f62655f776f726b696e675f776974685f6865785f737472696e67735f615f6c6f747d)"
   ]
  },
  {
   "cell_type": "code",
   "execution_count": 4,
   "id": "3d8969b2-d2cc-4281-9613-c551e048c5ca",
   "metadata": {},
   "outputs": [
    {
     "data": {
      "text/plain": [
       "str"
      ]
     },
     "execution_count": 4,
     "metadata": {},
     "output_type": "execute_result"
    }
   ],
   "source": [
    "type(hex_num)"
   ]
  },
  {
   "cell_type": "code",
   "execution_count": 9,
   "id": "cfdc661b-9144-45a9-be4b-50ee10761f55",
   "metadata": {},
   "outputs": [
    {
     "data": {
      "text/plain": [
       "b'crypto{You_will_be_working_with_hex_strings_a_lot}'"
      ]
     },
     "execution_count": 9,
     "metadata": {},
     "output_type": "execute_result"
    }
   ],
   "source": [
    "bytes.fromhex('63727970746f7b596f755f77696c6c5f62655f776f726b696e675f776974685f6865785f737472696e67735f615f6c6f747d')"
   ]
  },
  {
   "cell_type": "markdown",
   "id": "082b9688-9a82-4681-9380-b92f186a20e4",
   "metadata": {},
   "source": [
    "# b64"
   ]
  },
  {
   "cell_type": "code",
   "execution_count": 5,
   "id": "4075342d-a115-4057-9e9f-d43fca98e90a",
   "metadata": {},
   "outputs": [],
   "source": [
    "import base64"
   ]
  },
  {
   "cell_type": "code",
   "execution_count": 11,
   "id": "18e1c08b-deb7-441a-a71f-67636849d523",
   "metadata": {},
   "outputs": [
    {
     "data": {
      "text/plain": [
       "b'crypto/Base+64+Encoding+is+Web+Safe/'"
      ]
     },
     "execution_count": 11,
     "metadata": {},
     "output_type": "execute_result"
    }
   ],
   "source": [
    "input_str = bytes.fromhex('72bca9b68fc16ac7beeb8f849dca1d8a783e8acf9679bf9269f7bf')\n",
    "base64.b64encode(input_str)"
   ]
  },
  {
   "cell_type": "markdown",
   "id": "d3963169-e309-4d73-b4dc-9384217175fd",
   "metadata": {},
   "source": [
    "# bytes and big integers"
   ]
  },
  {
   "cell_type": "code",
   "execution_count": 2,
   "id": "a81f3079-66c7-41d6-b910-fba5a72db40a",
   "metadata": {},
   "outputs": [],
   "source": [
    "from Crypto.Util.number import *"
   ]
  },
  {
   "cell_type": "code",
   "execution_count": 7,
   "id": "cb14b2b7-77e4-4705-8496-2192b504ef98",
   "metadata": {},
   "outputs": [
    {
     "data": {
      "text/plain": [
       "b'crypto{3nc0d1n6_4ll_7h3_w4y_d0wn}'"
      ]
     },
     "execution_count": 7,
     "metadata": {},
     "output_type": "execute_result"
    }
   ],
   "source": [
    "long_to_bytes(11515195063862318899931685488813747395775516287289682636499965282714637259206269)"
   ]
  },
  {
   "cell_type": "markdown",
   "id": "3d7b3112-f671-4764-98c9-4889498b278c",
   "metadata": {},
   "source": [
    "# xor"
   ]
  },
  {
   "cell_type": "code",
   "execution_count": 1,
   "id": "9f4eae58-74d7-4a37-97d2-20e421986def",
   "metadata": {},
   "outputs": [],
   "source": [
    "from pwn import *"
   ]
  },
  {
   "cell_type": "code",
   "execution_count": 41,
   "id": "97791c2a",
   "metadata": {},
   "outputs": [],
   "source": [
    "# \"\".join(str(chr(int(xor(format(ord(c), '08b'), bin(13))))) for c in 'label') \n",
    "word = 'label'\n",
    "char_list = []\n",
    "\n",
    "for c in 'label':\n",
    "    char_list.append(bin(ord(c)))\n"
   ]
  },
  {
   "cell_type": "code",
   "execution_count": 50,
   "id": "ed6573e7",
   "metadata": {},
   "outputs": [
    {
     "name": "stdout",
     "output_type": "stream",
     "text": [
      "b'\\x00\\x00\\x00\\x00\\x00\\x00\\x01R\\x01'\n",
      "b'\\x00\\x00\\x00\\x00\\x00\\x01\\x00R\\x00'\n",
      "b'\\x00\\x00\\x00\\x00\\x00\\x01\\x00S\\x01'\n",
      "b'\\x00\\x00\\x00\\x00\\x00\\x01\\x01R\\x00'\n",
      "b'\\x00\\x00\\x00\\x00\\x00\\x00\\x01R\\x01'\n"
     ]
    },
    {
     "name": "stderr",
     "output_type": "stream",
     "text": [
      "/opt/homebrew/lib/python3.9/site-packages/pwnlib/util/fiddling.py:325: BytesWarning: Text is not bytes; assuming ASCII, no guarantees. See https://docs.pwntools.com/#bytes\n",
      "  strs = [packing.flat(s, word_size = 8, sign = False, endianness = 'little') for s in args]\n"
     ]
    }
   ],
   "source": [
    "for i in char_list:\n",
    "    print(xor(i, bin(13)))"
   ]
  },
  {
   "cell_type": "code",
   "execution_count": 26,
   "id": "b86fed60",
   "metadata": {},
   "outputs": [],
   "source": [
    "arr = []\n",
    "\n",
    "for x in 'label':\n",
    "    arr.append(bin(ord(x)))"
   ]
  },
  {
   "cell_type": "code",
   "execution_count": 27,
   "id": "634c8eaf",
   "metadata": {},
   "outputs": [
    {
     "ename": "TypeError",
     "evalue": "an integer is required (got type bytes)",
     "output_type": "error",
     "traceback": [
      "\u001b[0;31m---------------------------------------------------------------------------\u001b[0m",
      "\u001b[0;31mTypeError\u001b[0m                                 Traceback (most recent call last)",
      "\u001b[1;32m/Users/dcbuilder/Code/learn/cryptograph/intro/intro.ipynb Cell 19'\u001b[0m in \u001b[0;36m<cell line: 1>\u001b[0;34m()\u001b[0m\n\u001b[1;32m      <a href='vscode-notebook-cell:/Users/dcbuilder/Code/learn/cryptograph/intro/intro.ipynb#ch0000027?line=0'>1</a>\u001b[0m \u001b[39mfor\u001b[39;00m x \u001b[39min\u001b[39;00m arr:\n\u001b[0;32m----> <a href='vscode-notebook-cell:/Users/dcbuilder/Code/learn/cryptograph/intro/intro.ipynb#ch0000027?line=1'>2</a>\u001b[0m     \u001b[39mprint\u001b[39m(\u001b[39mchr\u001b[39;49m(xor(x, \u001b[39mbin\u001b[39;49m(\u001b[39m13\u001b[39;49m))))\n",
      "\u001b[0;31mTypeError\u001b[0m: an integer is required (got type bytes)"
     ]
    }
   ],
   "source": [
    "for x in arr:\n",
    "    print(xor(x, bin(13)))"
   ]
  },
  {
   "cell_type": "code",
   "execution_count": 9,
   "id": "b122d5c8",
   "metadata": {},
   "outputs": [
    {
     "data": {
      "text/plain": [
       "'0b1101100'"
      ]
     },
     "execution_count": 9,
     "metadata": {},
     "output_type": "execute_result"
    }
   ],
   "source": [
    "bin(108)"
   ]
  },
  {
   "cell_type": "code",
   "execution_count": 10,
   "id": "2302f33e",
   "metadata": {},
   "outputs": [
    {
     "data": {
      "text/plain": [
       "'0b1101'"
      ]
     },
     "execution_count": 10,
     "metadata": {},
     "output_type": "execute_result"
    }
   ],
   "source": [
    "bin(13)"
   ]
  },
  {
   "cell_type": "code",
   "execution_count": 11,
   "id": "8d131b6c",
   "metadata": {},
   "outputs": [
    {
     "data": {
      "text/plain": [
       "0"
      ]
     },
     "execution_count": 11,
     "metadata": {},
     "output_type": "execute_result"
    }
   ],
   "source": [
    "1 ^ 1"
   ]
  },
  {
   "cell_type": "code",
   "execution_count": null,
   "id": "197caab9",
   "metadata": {},
   "outputs": [],
   "source": []
  }
 ],
 "metadata": {
  "interpreter": {
   "hash": "b0fa6594d8f4cbf19f97940f81e996739fb7646882a419484c72d19e05852a7e"
  },
  "kernelspec": {
   "display_name": "Python 3.9.12 64-bit",
   "language": "python",
   "name": "python3"
  },
  "language_info": {
   "codemirror_mode": {
    "name": "ipython",
    "version": 3
   },
   "file_extension": ".py",
   "mimetype": "text/x-python",
   "name": "python",
   "nbconvert_exporter": "python",
   "pygments_lexer": "ipython3",
   "version": "3.9.12"
  }
 },
 "nbformat": 4,
 "nbformat_minor": 5
}
