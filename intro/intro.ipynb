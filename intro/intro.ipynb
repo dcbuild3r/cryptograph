{
 "cells": [
  {
   "cell_type": "markdown",
   "id": "906e592c",
   "metadata": {},
   "source": [
    "# INTRODUCTION TO CRYPTOHACK SECTION"
   ]
  },
  {
   "cell_type": "markdown",
   "id": "47053c58-274f-4a07-9950-11ba4b6abde2",
   "metadata": {},
   "source": [
    "# ords"
   ]
  },
  {
   "cell_type": "code",
   "execution_count": 1,
   "id": "ca36990b-f271-4c41-8c83-2c62943fb6f5",
   "metadata": {},
   "outputs": [],
   "source": [
    "ords = [99, 114, 121, 112, 116, 111, 123, 65, 83, 67, 73, 73, 95, 112, 114, 49, 110, 116, 52, 98, 108, 51, 125]"
   ]
  },
  {
   "cell_type": "code",
   "execution_count": 2,
   "id": "e8319472-82d2-4cf4-a393-b3edc80d2918",
   "metadata": {},
   "outputs": [
    {
     "name": "stdout",
     "output_type": "stream",
     "text": [
      "crypto{ASCII_pr1nt4bl3}\n"
     ]
    }
   ],
   "source": [
    "print(\"\".join(chr(o) for o in ords))"
   ]
  },
  {
   "cell_type": "markdown",
   "id": "74e7fbec-307a-449e-b865-53ee46b928f4",
   "metadata": {},
   "source": [
    "# hex"
   ]
  },
  {
   "cell_type": "code",
   "execution_count": 3,
   "id": "48be39f3-7149-4974-8fdb-8bb5f578f59d",
   "metadata": {},
   "outputs": [],
   "source": [
    "hex_num = hex(0x63727970746f7b596f755f77696c6c5f62655f776f726b696e675f776974685f6865785f737472696e67735f615f6c6f747d)"
   ]
  },
  {
   "cell_type": "code",
   "execution_count": 4,
   "id": "3d8969b2-d2cc-4281-9613-c551e048c5ca",
   "metadata": {},
   "outputs": [
    {
     "data": {
      "text/plain": [
       "str"
      ]
     },
     "execution_count": 4,
     "metadata": {},
     "output_type": "execute_result"
    }
   ],
   "source": [
    "type(hex_num)"
   ]
  },
  {
   "cell_type": "code",
   "execution_count": 9,
   "id": "cfdc661b-9144-45a9-be4b-50ee10761f55",
   "metadata": {},
   "outputs": [
    {
     "data": {
      "text/plain": [
       "b'crypto{You_will_be_working_with_hex_strings_a_lot}'"
      ]
     },
     "execution_count": 9,
     "metadata": {},
     "output_type": "execute_result"
    }
   ],
   "source": [
    "bytes.fromhex('63727970746f7b596f755f77696c6c5f62655f776f726b696e675f776974685f6865785f737472696e67735f615f6c6f747d')"
   ]
  },
  {
   "cell_type": "markdown",
   "id": "082b9688-9a82-4681-9380-b92f186a20e4",
   "metadata": {},
   "source": [
    "# b64"
   ]
  },
  {
   "cell_type": "code",
   "execution_count": 5,
   "id": "4075342d-a115-4057-9e9f-d43fca98e90a",
   "metadata": {},
   "outputs": [],
   "source": [
    "import base64"
   ]
  },
  {
   "cell_type": "code",
   "execution_count": 11,
   "id": "18e1c08b-deb7-441a-a71f-67636849d523",
   "metadata": {},
   "outputs": [
    {
     "data": {
      "text/plain": [
       "b'crypto/Base+64+Encoding+is+Web+Safe/'"
      ]
     },
     "execution_count": 11,
     "metadata": {},
     "output_type": "execute_result"
    }
   ],
   "source": [
    "input_str = bytes.fromhex('72bca9b68fc16ac7beeb8f849dca1d8a783e8acf9679bf9269f7bf')\n",
    "base64.b64encode(input_str)"
   ]
  },
  {
   "cell_type": "markdown",
   "id": "d3963169-e309-4d73-b4dc-9384217175fd",
   "metadata": {},
   "source": [
    "# bytes and big integers"
   ]
  },
  {
   "cell_type": "code",
   "execution_count": 2,
   "id": "a81f3079-66c7-41d6-b910-fba5a72db40a",
   "metadata": {},
   "outputs": [],
   "source": [
    "from Crypto.Util.number import *"
   ]
  },
  {
   "cell_type": "code",
   "execution_count": 7,
   "id": "cb14b2b7-77e4-4705-8496-2192b504ef98",
   "metadata": {},
   "outputs": [
    {
     "data": {
      "text/plain": [
       "b'crypto{3nc0d1n6_4ll_7h3_w4y_d0wn}'"
      ]
     },
     "execution_count": 7,
     "metadata": {},
     "output_type": "execute_result"
    }
   ],
   "source": [
    "long_to_bytes(11515195063862318899931685488813747395775516287289682636499965282714637259206269)"
   ]
  },
  {
   "cell_type": "markdown",
   "id": "3d7b3112-f671-4764-98c9-4889498b278c",
   "metadata": {},
   "source": [
    "# xor"
   ]
  },
  {
   "cell_type": "code",
   "execution_count": 1,
   "id": "9f4eae58-74d7-4a37-97d2-20e421986def",
   "metadata": {},
   "outputs": [],
   "source": [
    "from pwn import *"
   ]
  },
  {
   "cell_type": "code",
   "execution_count": 38,
   "id": "dbc627da",
   "metadata": {},
   "outputs": [
    {
     "data": {
      "text/plain": [
       "'\\r'"
      ]
     },
     "execution_count": 38,
     "metadata": {},
     "output_type": "execute_result"
    }
   ],
   "source": [
    "chr(13)"
   ]
  },
  {
   "cell_type": "code",
   "execution_count": 37,
   "id": "4325192f",
   "metadata": {},
   "outputs": [
    {
     "data": {
      "text/plain": [
       "b'aloha'"
      ]
     },
     "execution_count": 37,
     "metadata": {},
     "output_type": "execute_result"
    }
   ],
   "source": [
    "xor(b'label', b'\\r')"
   ]
  }
 ],
 "metadata": {
  "interpreter": {
   "hash": "b0fa6594d8f4cbf19f97940f81e996739fb7646882a419484c72d19e05852a7e"
  },
  "kernelspec": {
   "display_name": "Python 3.9.12 64-bit",
   "language": "python",
   "name": "python3"
  },
  "language_info": {
   "codemirror_mode": {
    "name": "ipython",
    "version": 3
   },
   "file_extension": ".py",
   "mimetype": "text/x-python",
   "name": "python",
   "nbconvert_exporter": "python",
   "pygments_lexer": "ipython3",
   "version": "3.9.12"
  }
 },
 "nbformat": 4,
 "nbformat_minor": 5
}
