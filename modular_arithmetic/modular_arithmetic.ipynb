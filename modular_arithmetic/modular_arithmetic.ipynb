{
 "cells": [
  {
   "cell_type": "markdown",
   "metadata": {},
   "source": [
    "# MODULAR ARITHMETIC"
   ]
  },
  {
   "cell_type": "markdown",
   "metadata": {},
   "source": [
    "# Greatest common divisor"
   ]
  },
  {
   "cell_type": "code",
   "execution_count": 19,
   "metadata": {},
   "outputs": [],
   "source": [
    "def gcd(a:int, b:int) -> int:\n",
    "    \"\"\"\n",
    "   Function that calculates the greatest common divisor\n",
    "   @param a   \n",
    "   @param b \n",
    "   \"\"\"\n",
    "    while b != 0:\n",
    "        t = b\n",
    "        b = a % b\n",
    "        a = t\n",
    "    return a"
   ]
  },
  {
   "cell_type": "code",
   "execution_count": 20,
   "metadata": {},
   "outputs": [
    {
     "data": {
      "text/plain": [
       "1512"
      ]
     },
     "execution_count": 20,
     "metadata": {},
     "output_type": "execute_result"
    }
   ],
   "source": [
    "gcd(66528, 52920)"
   ]
  },
  {
   "cell_type": "markdown",
   "metadata": {},
   "source": [
    "# Extendended Euclidean algorithm"
   ]
  },
  {
   "cell_type": "code",
   "execution_count": 26,
   "metadata": {},
   "outputs": [
    {
     "name": "stdout",
     "output_type": "stream",
     "text": [
      "10245*26513 + -8404*32321 = 1\n"
     ]
    }
   ],
   "source": [
    "def gcdExtended(a, b): \n",
    "    if a == 0 :  \n",
    "        return b,0,1\n",
    "             \n",
    "    gcd,x1,y1 = gcdExtended(b%a, a) \n",
    "     \n",
    "    x = y1 - (b//a) * x1 \n",
    "    y = x1 \n",
    "\n",
    "    return gcd,x,y\n",
    "  \n",
    "a, b = 26513,32321\n",
    "g, x, y = gcdExtended(a, b) \n",
    "print(f'{x}*{a} + {y}*{b} = {g}') "
   ]
  }
 ],
 "metadata": {
  "interpreter": {
   "hash": "bff44edd6f6d4144646226b924ca902e6dcb7178c5cd24520b34cc374e42e417"
  },
  "kernelspec": {
   "display_name": "Python 3.9.12 ('cryptohack')",
   "language": "python",
   "name": "python3"
  },
  "language_info": {
   "codemirror_mode": {
    "name": "ipython",
    "version": 3
   },
   "file_extension": ".py",
   "mimetype": "text/x-python",
   "name": "python",
   "nbconvert_exporter": "python",
   "pygments_lexer": "ipython3",
   "version": "3.9.12"
  },
  "orig_nbformat": 4
 },
 "nbformat": 4,
 "nbformat_minor": 2
}
